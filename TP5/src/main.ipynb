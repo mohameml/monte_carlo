{
 "cells": [
  {
   "cell_type": "code",
   "execution_count": 2,
   "metadata": {},
   "outputs": [],
   "source": [
    "import  numpy as np \n",
    "from scipy.stats import norm"
   ]
  },
  {
   "cell_type": "code",
   "execution_count": 58,
   "metadata": {},
   "outputs": [],
   "source": [
    "# def simulation_brownien(T , nSamples  ) :\n",
    "#     \"\"\"\n",
    "#     Simule un mouvement brownien sur l'intervalle [0, T].\n",
    "\n",
    "#     T : Durée totale de la simulation (temps final).\n",
    "#     nSamples :Nombre de pas de temps (échantillons) à simuler.\n",
    "#     \"\"\"\n",
    "#     G = np.random.randn(nSamples)\n",
    "#     dt = T/nSamples\n",
    "#     incr = np.sqrt(dt)*G \n",
    "#     res = np.concatenate(([0.] , np.cumsum(incr)))\n",
    "#     return res \n",
    "\n",
    "\n",
    "def simule_w(T):\n",
    "    G = np.random.randn()\n",
    "    return np.sqrt(T)*G \n",
    "\n",
    "def payoff(x , W , r , sigma , K , T):\n",
    "    return max(x*np.exp((r - sigma**2 /2)*T + sigma*W) - K , 0)\n",
    "\n",
    "\n",
    "def calcul_delta(sigma , T ,spot , K , r) :\n",
    "    d_1 = (1/sigma*np.sqrt(T))*(np.log(spot / K)  + ( r+ sigma**2/2)*T ) \n",
    "    return norm.cdf(d_1)\n",
    "\n",
    "def mehode_differance_fin(spot , n , T  , r , sigma , K) :\n",
    "    \"\"\" \n",
    "    \"\"\"\n",
    "    epsilon = n**(- 1/4)\n",
    "    alpha_1 = 0 \n",
    "    alpha_2 = 0 \n",
    "    for _ in range(n) :\n",
    "        W = simule_w(T )\n",
    "        alpha_1+=payoff(spot + epsilon , W , r , sigma , K ,T )\n",
    "        alpha_2+=payoff(spot - epsilon , W , r , sigma , K ,T )\n",
    "\n",
    "    return (alpha_1 - alpha_2)*np.exp(-r*T) / (2*epsilon*n)\n",
    "\n",
    "# def methode_\n",
    "\n",
    "\n",
    "                                                                                              "
   ]
  },
  {
   "cell_type": "code",
   "execution_count": 60,
   "metadata": {},
   "outputs": [
    {
     "name": "stdout",
     "output_type": "stream",
     "text": [
      "delta_0 avce la formule : 0.5967717843205244\n",
      "delta_0 avce la méthode de différance finis : 0.5915531648639163\n"
     ]
    }
   ],
   "source": [
    "# Test \n",
    "T = 1\n",
    "r = 0.03\n",
    "K = 100\n",
    "# spot = K*np.exp(r*T) \n",
    "spot = 100\n",
    "sigma = 0.25 \n",
    "n = 10000\n",
    "\n",
    "delta_0 = calcul_delta(sigma , T , spot , K , r)\n",
    "print(f\"delta_0 avce la formule : {delta_0}\")\n",
    "\n",
    "delta_0_diff_fini = mehode_differance_fin(spot , n , T   , r , sigma , K )\n",
    "print(f\"delta_0 avce la méthode de différance finis : {delta_0_diff_fini}\")\n"
   ]
  }
 ],
 "metadata": {
  "kernelspec": {
   "display_name": "Python 3",
   "language": "python",
   "name": "python3"
  },
  "language_info": {
   "codemirror_mode": {
    "name": "ipython",
    "version": 3
   },
   "file_extension": ".py",
   "mimetype": "text/x-python",
   "name": "python",
   "nbconvert_exporter": "python",
   "pygments_lexer": "ipython3",
   "version": "3.10.12"
  }
 },
 "nbformat": 4,
 "nbformat_minor": 2
}
