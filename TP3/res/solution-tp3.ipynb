{
 "cells": [
  {
   "cell_type": "markdown",
   "metadata": {},
   "source": [
    "# Méthode de réduction de variance par _importance sampling_\n",
    "\n",
    "- Question 1 : il suffit d'utiliser le théorème de Girsanov (Cameron Martin dans ce cas)\n",
    "\n",
    "  $\\def\\P{\\mathbb{P}}\\def\\Q{\\mathbb{Q}}\\def\\l{\\lambda}$\n",
    "  $\\def\\E{\\mathbb{E}}$\n",
    "\n",
    "  Soit $(W_t)_{t \\in [0,T]}$ un mouvement brownien standard sous la probabilité $\\P$. Par le théorème de Cameron Martin, pour tout $\\lambda \\in \\R$, il existe une probabilité $\\Q^\\lambda$ définie par $\\frac{d\\Q^\\l}{d\\P} = e^{-\\l W_T - \\frac{1}{2} \\l^2 T}$ sous laquelle le processus $(W^\\l_t)_{t \\in [0,T]}$ un mouvement brownien standard.\n",
    "\n",
    "  Puisque $(W^\\l_t)_{t \\in [0,T]}$ a même loi sous $\\Q^\\l$ que $(W_t)_{t \\in [0,T]}$ sous $\\P$, on a \n",
    "  $$\\begin{align*}\n",
    "  \\E_\\P[f((W_t)_{t \\in [0,T]})] &= \\E_{\\Q^\\l}[f((W^\\l_t)_{t \\in [0,T]})] \\\\\n",
    "  & = \\E_{\\P}\\left[f((W^\\l_t)_{t \\in [0,T]}) \\frac{d\\Q^\\l}{d\\P}\\right] \\\\\n",
    "  & = \\E_{\\P}[f((W_t + \\lambda t)_{t \\in [0,T]}) e^{-\\l W_T - \\frac{1}{2} \\l^2 T}]\n",
    "  \\end{align*}$$\n",
    "- Question 2 : Appliquer la formule de la question 1 à l'écriture de la variance sous la forme ${\\mathbb E}[... ^2] - {\\mathbb E}[... ]^2$\n",
    "- Question 4 : il suffit de calculer la dérivée de $u$ et d'écrire que $v'(\\lambda^\\star)=0$.\n",
    "  $$u''(\\lambda) = T + \\frac{\\E\\left[W_T^2 e^{- \\lambda W_T} f^2((W_t, t \\le T))\\right]}{\\E\\left[e^{- \\lambda W_T} f^2((W_t, t \\le T))\\right]} - \\frac{\\E\\left[W_T e^{- \\lambda W_T} f^2((W_t, t \\le T))\\right]^2}{\\E\\left[e^{- \\lambda W_T} f^2((W_t, t \\le T))\\right]^2}$$\n",
    "  Remarquons que l'inégalité de Cauchy Schwartz permet d'écrire que\n",
    "  $$\\begin{align*}\n",
    "  &\\frac{\\E\\left[W_T e^{- \\lambda W_T} f^2((W_t, t \\le T))\\right]^2}{\\E\\left[e^{- \\lambda W_T} f^2((W_t, t \\le T))\\right]^2} \\\\\n",
    "  &\\le \\frac{\\E\\left[W_T^2 e^{- \\lambda W_T} f^2((W_t, t \\le T))\\right]\\E\\left[e^{- \\lambda W_T} f^2((W_t, t \\le T))\\right]}{\\E\\left[e^{- \\lambda W_T} f^2((W_t, t \\le T))\\right]^2}\\\\\n",
    "  &\\le \\frac{\\E\\left[W_T^2 e^{- \\lambda W_T} f^2((W_t, t \\le T))\\right]}{\\E\\left[e^{- \\lambda W_T} f^2((W_t, t \\le T))\\right]}.\n",
    "  \\end{align*}$$\n",
    "  On conclut alors que $u''(\\lambda) \\ge T$."
   ]
  },
  {
   "cell_type": "code",
   "execution_count": 1,
   "metadata": {},
   "outputs": [
    {
     "data": {
      "text/plain": [
       "monteCarlo (generic function with 2 methods)"
      ]
     },
     "metadata": {},
     "output_type": "display_data"
    }
   ],
   "source": [
    "using Random: randn!\n",
    "\n",
    "\"\"\"\n",
    "Compute one simulation of the BS model with J time steps over [0,T]\n",
    "\n",
    "# Arguments\n",
    "- `path` an array of size J + 1, containing a simulation of the model on output\n",
    "- `G`: an array of size J filled with normal random variables.\n",
    "- `lambda`: the linear drift to add to the Brownian motion in the BS model\n",
    "\"\"\"\n",
    "function bsAsset!(path::Array{Float64}, sigma, r, T, spot, J::Int, G::Array, lambda=0.)\n",
    "    @assert length(path) == J + 1\n",
    "    dt = T / J\n",
    "    sqrt_dt = sqrt(dt)\n",
    "    path[1] = spot\n",
    "    for i in eachindex(path[1:end - 1])\n",
    "        path[i + 1] = path[i] * exp((r - sigma * sigma / 2) * dt + sigma * (sqrt_dt * G[i] + lambda * dt))\n",
    "    end\n",
    "end\n",
    "\n",
    "\"\"\"\n",
    "Compute the discrete time barrier payoff\n",
    "\n",
    "#Arguments\n",
    "- `path::Array`: an array with size J+1 containing a single simulation of the BS model\n",
    "\"\"\"\n",
    "function barrierPayoff(path::Array{Float64}, strike, barrier)\n",
    "    for spot in path\n",
    "        if spot < barrier\n",
    "            return 0\n",
    "        end\n",
    "    end\n",
    "    return max(path[end] - strike, 0)\n",
    "end\n",
    "\n",
    "function finalWT(G::Array{Float64}, T, J::Int)\n",
    "    @assert length(G) == J\n",
    "    return sum(G) * sqrt(T / J)\n",
    "end\n",
    "\n",
    "function exp_minus(G::Array, J, T, lambda)\n",
    "    return exp(-lambda * finalWT(G, T, J) - 0.5 * lambda * lambda * T)\n",
    "end\n",
    "\n",
    "\n",
    "function monteCarlo(sigma, r, T, spot, J, strike, barrier, nSamples, lambda = 0)\n",
    "    price = 0.\n",
    "    stdDev = 0.\n",
    "    G = zeros(J)\n",
    "    path = zeros(J + 1)\n",
    "    for i=1:nSamples\n",
    "        randn!(G)\n",
    "        bsAsset!(path, sigma, r, T, spot, J, G, lambda)\n",
    "        p = barrierPayoff(path, strike, barrier) *exp(-r * T) * exp_minus(G, J, T, lambda)\n",
    "        price += p\n",
    "        stdDev += p * p\n",
    "    end\n",
    "    price /= nSamples\n",
    "    stdDev = stdDev / nSamples - price * price\n",
    "    stdDev = sqrt(stdDev / nSamples)\n",
    "    return price, 1.96 * stdDev\n",
    "end"
   ]
  },
  {
   "cell_type": "code",
   "execution_count": 4,
   "metadata": {},
   "outputs": [
    {
     "data": {
      "text/plain": [
       "(11.14333092074296, 0.17284195811329184)"
      ]
     },
     "metadata": {},
     "output_type": "display_data"
    }
   ],
   "source": [
    "monteCarlo(0.2, 0.05, 2, 100, 24, 110, 80, 50000)"
   ]
  },
  {
   "cell_type": "markdown",
   "metadata": {},
   "source": [
    "## Importance sampling\n",
    "\n",
    "$\\def\\abs#1{|#1|}$\n",
    "$\\def\\l{\\lambda}$\n",
    "$$u_n(\\lambda) = \\frac{\\abs{\\l}^2 T}{2} + \\log \\sum_{i=1}^n e^{-\\l \\cdot W^i_T } f^2((W^i_t, t \\le T)).$$\n",
    "$$u_n'(\\lambda) = \\l T + \\frac{\\sum_{i=1}^n -W^i_T e^{-\\l \\cdot W^i_T } f^2((W^i_t, t \\le T))}{\\sum_{i=1}^n e^{-\\l \\cdot W^i_T } f^2((W^i_t, t \\le T))}.$$\n",
    "$$u_n''(\\lambda) = T + \\frac{\\sum_{i=1}^n (W^i_T)^2 e^{-\\l \\cdot W^i_T } f^2((W^i_t, t \\le T))}{\\sum_{i=1}^n e^{-\\l \\cdot W^i_T } f^2((W^i_t, t \\le T))} + \\frac{\\left(\\sum_{i=1}^n W^i_T e^{-\\l \\cdot W^i_T } f^2((W^i_t, t \\le T))\\right)^2}{\\left(\\sum_{i=1}^n e^{-\\l \\cdot W^i_T } f^2((W^i_t, t \\le T))\\right)^2} .$$"
   ]
  },
  {
   "cell_type": "code",
   "execution_count": 5,
   "metadata": {},
   "outputs": [
    {
     "data": {
      "text/plain": [
       "optimizeLambda (generic function with 2 methods)"
      ]
     },
     "metadata": {},
     "output_type": "display_data"
    }
   ],
   "source": [
    "function optimizeLambda(sigma, r, T, spot, J, strike, barrier, nSamples, optimIterations=5)\n",
    "    G = Array{Array{Float64}}(undef, nSamples)\n",
    "    squaredPayoff = zeros(nSamples)\n",
    "    path = zeros(J + 1)\n",
    "    # Store all the payoffs\n",
    "    for i=1:nSamples\n",
    "        G[i] = randn(J)\n",
    "        bsAsset!(path, sigma, r, T, spot, J, G[i], 0)\n",
    "        tmp = barrierPayoff(path, strike, barrier)\n",
    "        squaredPayoff[i] = tmp * tmp\n",
    "    end\n",
    "\n",
    "    lambda = 0\n",
    "    for iter=1:optimIterations\n",
    "        sum0 = 0.\n",
    "        sum1 = 0.\n",
    "        sum2 = 0.\n",
    "        for i=1:nSamples\n",
    "            WT =  finalWT(G[i], T, J)\n",
    "            sum0 += squaredPayoff[i] * exp(-lambda * WT)\n",
    "            sum1 += WT * squaredPayoff[i] * exp(-lambda * WT)\n",
    "            sum2 += WT * WT * squaredPayoff[i] * exp(-lambda * WT)\n",
    "        end\n",
    "        u_first = lambda * T - sum1 / sum0\n",
    "        u_second = T + sum2 / sum0 - sum1 * sum1 / (sum0 * sum0)\n",
    "        lambda = lambda - u_first / u_second\n",
    "        println(\"lambda:\", lambda)\n",
    "    end\n",
    "    return lambda\n",
    "end"
   ]
  },
  {
   "cell_type": "code",
   "execution_count": 12,
   "metadata": {},
   "outputs": [
    {
     "name": "stdout",
     "output_type": "stream",
     "text": [
      "lambda:0.8605208983473653\n",
      "lambda:0.9128896030171634\n",
      "lambda:0.9130613530518715\n",
      "lambda:0.9130613548666191\n",
      "lambda:0.9130613548666164\n"
     ]
    },
    {
     "data": {
      "text/plain": [
       "(11.251671572121065, 0.052358932541896885)"
      ]
     },
     "metadata": {},
     "output_type": "display_data"
    }
   ],
   "source": [
    "lambda = optimizeLambda(0.2, 0.05, 2, 100, 24, 110, 80, 10000)\n",
    "monteCarlo(0.2, 0.05, 2, 100, 24, 110, 80, 50000, lambda)\n"
   ]
  }
 ],
 "metadata": {
  "kernelspec": {
   "display_name": "Julia 1.11.0",
   "language": "julia",
   "name": "julia-1.11"
  },
  "language_info": {
   "file_extension": ".jl",
   "mimetype": "application/julia",
   "name": "julia",
   "version": "1.11.0"
  }
 },
 "nbformat": 4,
 "nbformat_minor": 2
}
