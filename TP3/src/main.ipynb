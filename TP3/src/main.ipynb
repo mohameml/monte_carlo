{
 "cells": [
  {
   "cell_type": "markdown",
   "metadata": {},
   "source": [
    "## TP3 : Méthode de réduction de variance par **``importance sampling``**"
   ]
  },
  {
   "cell_type": "code",
   "execution_count": 34,
   "metadata": {},
   "outputs": [],
   "source": [
    "import numpy as np\n",
    "import matplotlib.pyplot as plt"
   ]
  },
  {
   "cell_type": "code",
   "execution_count": 35,
   "metadata": {},
   "outputs": [],
   "source": [
    "def simulation_brownien(T , nSamples  ) :\n",
    "    \"\"\"\n",
    "    Simule un mouvement brownien sur l'intervalle [0, T].\n",
    "\n",
    "    T : Durée totale de la simulation (temps final).\n",
    "    nSamples :Nombre de pas de temps (échantillons) à simuler.\n",
    "    G : array-like\n",
    "    \"\"\"\n",
    "    G = np.random.randn(nSamples)\n",
    "    dt = T/nSamples\n",
    "    incr = np.sqrt(dt)*G \n",
    "    res = np.concatenate(([0.] , np.cumsum(incr)))\n",
    "    return res \n",
    "\n",
    "\n",
    "\n",
    "def bsAsset(spot , r , sigma , T , nSamples , W ,  lambda_ = 0.0 ) :\n",
    "    \"\"\"\n",
    "    Simulation de trajectoires du prix d'un actif sous-jacent dans le modèle de Black-Scholes.\n",
    "    \n",
    "    spot : prix initial (S0)\n",
    "    r : taux sans risque\n",
    "    sigma : volatilité\n",
    "    T : horizon de temps\n",
    "    nSamples : nombre d'échantillons \n",
    "    \"\"\"\n",
    "    t = np.linspace(0,T , nSamples + 1)\n",
    "    res = spot*np.exp((r - 0.5*(sigma**2))*t + sigma*(W + lambda_*t))\n",
    "    return res\n",
    "\n",
    "\n",
    "\n",
    "def payoff(asset , K , L):\n",
    "    return max(asset[-1] - K ,0)*int(all(asset > L))\n"
   ]
  },
  {
   "cell_type": "code",
   "execution_count": 36,
   "metadata": {},
   "outputs": [],
   "source": [
    "def estimation_lambda(spot , r, sigma , T , nSamples , n , gamma , beta , K , L) :\n",
    "    res=[0]*n \n",
    "    alpha = 1 \n",
    "    for i in range(1 , n) :\n",
    "        sim_brow = simulation_brownien(T , nSamples )\n",
    "        # asset = bsAsset(spot , r , sigma , T , nSamples , sim_brow , res[i-1]*T)\n",
    "        asset = bsAsset(spot , r , sigma , T , nSamples , sim_brow )\n",
    "        lambda_ = res[i-1] - (gamma/(i + 500)**beta)*(res[i-1]*T - sim_brow[-1])*np.exp(-res[i-1]*sim_brow[-1] + (res[i-1]**2)*T/2)*(payoff(asset , K , L)**2)\n",
    "\n",
    "        if lambda_**2 <= np.log(alpha + 1) :\n",
    "            res[i]  = lambda_ \n",
    "        else : \n",
    "            res[i] = 0 \n",
    "            alpha+=1\n",
    "        \n",
    "    return res "
   ]
  },
  {
   "cell_type": "code",
   "execution_count": 44,
   "metadata": {},
   "outputs": [],
   "source": [
    "def price(spot , r, sigma , T , nSamples , K , L , M , lambda_):\n",
    "\n",
    "    price = 0 \n",
    "    stdev = 0 \n",
    "    for _ in range(M) :\n",
    "        sim_brow = simulation_brownien(T , nSamples )\n",
    "\n",
    "        asset = bsAsset(spot , r , sigma , T , nSamples , sim_brow , lambda_)\n",
    "        p = payoff(asset , K , L)*np.exp(-lambda_*sim_brow[-1] - (lambda_**2)*T/2)\n",
    "        price+=p\n",
    "        stdev+=p**2\n",
    "    \n",
    "    price*=np.exp(-r*T)/M\n",
    "    stdev = np.sqrt(np.exp(-2*r*T)*(stdev/M) - price**2)\n",
    "    demi_ic = stdev*1.96/np.sqrt(M)\n",
    "    \n",
    "    return (price , demi_ic)\n",
    "\n",
    "\n",
    "\n",
    "\n"
   ]
  },
  {
   "cell_type": "code",
   "execution_count": null,
   "metadata": {},
   "outputs": [],
   "source": [
    "# méthode de newton :\n"
   ]
  },
  {
   "cell_type": "code",
   "execution_count": 46,
   "metadata": {},
   "outputs": [
    {
     "name": "stdout",
     "output_type": "stream",
     "text": [
      "pricing with importance sampling : 11.207031845089952 ± 0.052273031943097535\n",
      "pricing with Monte Carlo naif : 11.140988737733661 ± 0.17137099987948012\n"
     ]
    }
   ],
   "source": [
    "# Test :\n",
    "spot = 100\n",
    "K= 110\n",
    "r =0.05\n",
    "sigma = 0.2\n",
    "T = 2\n",
    "L = 80 \n",
    "nSamples = 24\n",
    "gamma = 0.001\n",
    "beta = 0.75\n",
    "n = 50000\n",
    "M = 50000\n",
    "\n",
    "lambda_ = estimation_lambda(spot , r , sigma , T , nSamples ,n , gamma ,beta , K , L )\n",
    "\n",
    "p , ic = price(spot , r, sigma , T , nSamples , K , L , M , lambda_[-1])\n",
    "print(f\"pricing with importance sampling : {p} ± {ic}\")\n",
    "p , ic = price(spot , r, sigma , T , nSamples , K , L , M , 0)\n",
    "print(f\"pricing with Monte Carlo naif : {p} ± {ic}\")"
   ]
  }
 ],
 "metadata": {
  "kernelspec": {
   "display_name": "Python 3",
   "language": "python",
   "name": "python3"
  },
  "language_info": {
   "codemirror_mode": {
    "name": "ipython",
    "version": 3
   },
   "file_extension": ".py",
   "mimetype": "text/x-python",
   "name": "python",
   "nbconvert_exporter": "python",
   "pygments_lexer": "ipython3",
   "version": "3.10.12"
  }
 },
 "nbformat": 4,
 "nbformat_minor": 2
}
