{
 "cells": [
  {
   "cell_type": "markdown",
   "metadata": {},
   "source": [
    "## TP3 : Méthode de réduction de variance par **``importance sampling``**"
   ]
  },
  {
   "cell_type": "code",
   "execution_count": 23,
   "metadata": {},
   "outputs": [],
   "source": [
    "import numpy as np\n",
    "import matplotlib.pyplot as plt"
   ]
  },
  {
   "cell_type": "code",
   "execution_count": 24,
   "metadata": {},
   "outputs": [],
   "source": [
    "def simulation_brownien(T , nSamples  ) :\n",
    "    \"\"\"\n",
    "    Simule un mouvement brownien sur l'intervalle [0, T].\n",
    "\n",
    "    T : Durée totale de la simulation (temps final).\n",
    "    nSamples :Nombre de pas de temps (échantillons) à simuler.\n",
    "    G : array-like\n",
    "    \"\"\"\n",
    "    G = np.random.randn(nSamples)\n",
    "    dt = T/nSamples\n",
    "    incr = np.sqrt(dt)*G \n",
    "    res = np.concatenate(([0.] , np.cumsum(incr)))\n",
    "    return res \n",
    "\n",
    "\n",
    "\n",
    "def bsAsset(spot , r , sigma , T , nSamples , W ,  lambda_ = 0.0 ) :\n",
    "    \"\"\"\n",
    "    Simulation de trajectoires du prix d'un actif sous-jacent dans le modèle de Black-Scholes.\n",
    "    \n",
    "    spot : prix initial (S0)\n",
    "    r : taux sans risque\n",
    "    sigma : volatilité\n",
    "    T : horizon de temps\n",
    "    nSamples : nombre d'échantillons \n",
    "    \"\"\"\n",
    "    t = np.linspace(0,T , nSamples + 1)\n",
    "    res = spot*np.exp((r - 0.5*(sigma**2))*t + sigma*(W + lambda_*t))\n",
    "    return res\n",
    "\n",
    "\n",
    "\n",
    "def payoff(asset , K , L):\n",
    "    return max(asset[-1] - K ,0)*int(all(asset > L))\n"
   ]
  },
  {
   "cell_type": "code",
   "execution_count": 25,
   "metadata": {},
   "outputs": [],
   "source": [
    "def estimation_lambda(spot , r, sigma , T , nSamples , n , gamma , beta , K , L) :\n",
    "    res=[0]*n \n",
    "    alpha = 1 \n",
    "    for i in range(1 , n) :\n",
    "        sim_brow = simulation_brownien(T , nSamples )\n",
    "        # asset = bsAsset(spot , r , sigma , T , nSamples , sim_brow , res[i-1]*T)\n",
    "        asset = bsAsset(spot , r , sigma , T , nSamples , sim_brow )\n",
    "        lambda_ = res[i-1] - (gamma/(i + 500)**beta)*(res[i-1]*T - sim_brow[-1])*np.exp(-res[i-1]*sim_brow[-1] + (res[i-1]**2)*T/2)*(payoff(asset , K , L)**2)\n",
    "\n",
    "        if lambda_**2 <= np.log(alpha + 1) :\n",
    "            res[i]  = lambda_ \n",
    "        else : \n",
    "            res[i] = 0 \n",
    "            alpha+=1\n",
    "\n",
    "    print(f\"lambda_1 = {res[-1]}\")\n",
    "    \n",
    "        \n",
    "    return res "
   ]
  },
  {
   "cell_type": "code",
   "execution_count": 26,
   "metadata": {},
   "outputs": [],
   "source": [
    "def price(spot , r, sigma , T , nSamples , K , L , M , lambda_):\n",
    "\n",
    "    price = 0 \n",
    "    stdev = 0 \n",
    "    for _ in range(M) :\n",
    "        sim_brow = simulation_brownien(T , nSamples )\n",
    "\n",
    "        asset = bsAsset(spot , r , sigma , T , nSamples , sim_brow , lambda_)\n",
    "        p = payoff(asset , K , L)*np.exp(-lambda_*sim_brow[-1] - (lambda_**2)*T/2)\n",
    "        price+=p\n",
    "        stdev+=p**2\n",
    "    \n",
    "    price*=np.exp(-r*T)/M\n",
    "    stdev = np.sqrt(np.exp(-2*r*T)*(stdev/M) - price**2)\n",
    "    demi_ic = stdev*1.96/np.sqrt(M)\n",
    "    \n",
    "    return (price , demi_ic)\n",
    "\n",
    "\n",
    "\n",
    "\n"
   ]
  },
  {
   "cell_type": "code",
   "execution_count": 27,
   "metadata": {},
   "outputs": [],
   "source": [
    "# méthode de newton :\n",
    "\n",
    "def u(K , L , n , T , nSamples , spot , r , sigma , lambda_) :\n",
    "    somme_1 = 0.\n",
    "    somme_2 = 0.\n",
    "    somme_3 = 0.\n",
    "\n",
    "    for _ in range(n) :\n",
    "        W = simulation_brownien(T , nSamples)\n",
    "        W_T = W[-1]\n",
    "        asset = bsAsset(spot , r, sigma , T , nSamples , W )\n",
    "        p = np.exp(-lambda_ * W_T)*(payoff(asset , K ,L)**2)\n",
    "        somme_1+=p\n",
    "        somme_2+=W_T*p \n",
    "        somme_3+=-1*p*(W_T**2)\n",
    "\n",
    "    u_1 = lambda_*T - somme_2 / somme_1\n",
    "    u_2 = 1 - (somme_3*somme_1 + somme_2**2) / somme_1**2\n",
    "\n",
    "    return (u_1 , u_2)\n",
    "\n",
    "\n",
    "def lambda_newton(K , L , n , T , nSamples , spot , r , sigma ) :\n",
    "    lambda_ = 0.\n",
    "    p  = 5 \n",
    "    for _ in range(p) :\n",
    "        u_1 , u_2 = u(K , L , n , T , nSamples , spot , r , sigma  , lambda_)\n",
    "        lambda_ = lambda_   - u_1 / u_2  \n",
    "\n",
    "    print(f\"lambda_ = {lambda_}\")\n",
    "    \n",
    "    return lambda_"
   ]
  },
  {
   "cell_type": "code",
   "execution_count": 28,
   "metadata": {},
   "outputs": [
    {
     "name": "stdout",
     "output_type": "stream",
     "text": [
      "lambda_1 = 0.9243807537304883\n",
      "lambda_ = 0.9887655427640902\n",
      "pricing with importance sampling : 11.2074555561496 ± 0.05232947891777637\n",
      "pricing with Monte Carlo naif : 11.175812570039973 ± 0.1727633697886204\n",
      "pricing with Monte Carlo , lambda : 11.220797035606816 ± 0.05315125742312272\n"
     ]
    }
   ],
   "source": [
    "# Test :\n",
    "spot = 100\n",
    "K= 110\n",
    "r =0.05\n",
    "sigma = 0.2\n",
    "T = 2\n",
    "L = 80 \n",
    "nSamples = 24\n",
    "gamma = 0.001\n",
    "beta = 0.75\n",
    "n = 50000\n",
    "M = 50000\n",
    "\n",
    "lambda_ = estimation_lambda(spot , r , sigma , T , nSamples ,n , gamma ,beta , K , L )\n",
    "lambda_2 = lambda_newton(K , L , n , T , nSamples , spot , r , sigma)\n",
    "\n",
    "p , ic = price(spot , r, sigma , T , nSamples , K , L , M , lambda_[-1])\n",
    "print(f\"pricing with importance sampling : {p} ± {ic}\")\n",
    "p , ic = price(spot , r, sigma , T , nSamples , K , L , M , 0)\n",
    "print(f\"pricing with Monte Carlo naif : {p} ± {ic}\")\n",
    "p , ic = price(spot , r, sigma , T , nSamples , K , L , M , lambda_2)\n",
    "print(f\"pricing with Monte Carlo , lambda : {p} ± {ic}\")\n",
    "\n"
   ]
  }
 ],
 "metadata": {
  "kernelspec": {
   "display_name": "Python 3",
   "language": "python",
   "name": "python3"
  },
  "language_info": {
   "codemirror_mode": {
    "name": "ipython",
    "version": 3
   },
   "file_extension": ".py",
   "mimetype": "text/x-python",
   "name": "python",
   "nbconvert_exporter": "python",
   "pygments_lexer": "ipython3",
   "version": "3.10.12"
  }
 },
 "nbformat": 4,
 "nbformat_minor": 2
}
