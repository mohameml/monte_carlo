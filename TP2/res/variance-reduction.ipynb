{
 "cells": [
  {
   "cell_type": "code",
   "execution_count": 2,
   "metadata": {},
   "outputs": [],
   "source": [
    "import matplotlib.pyplot as plt\n",
    "import numpy as np\n",
    "\n",
    "def bsAsset(spot, sigma, r, T, nTimeSteps, G:np.array, theta=0):\n",
    "    \"\"\"Return samples from the 1-dimensional Black Scholes model\n",
    "\n",
    "    Args:\n",
    "        spot: \n",
    "        sigma:\n",
    "        r:\n",
    "        T:\n",
    "        nTimeSteps:\n",
    "        G: Either a vector of size nTimeSteps or a matrix of size (M, nTimeSteps) where M is the number of Monte Carlo samples\n",
    "        theta: linear drift to add to the Brownian motion.\n",
    "\n",
    "    \"\"\"\n",
    "    if isinstance(G, float):\n",
    "        G = np.array([[G]])\n",
    "    elif len(np.shape(G)) == 1:\n",
    "        G = np.reshape(G, (1, np.size(G)))\n",
    "    dt = T / nTimeSteps\n",
    "    nSamples = np.shape(G)[0]\n",
    "    S = spot * np.concatenate([np.ones((nSamples, 1)), np.cumprod(np.exp((r - sigma * sigma / 2) * dt + sigma * np.sqrt(dt) * (G + theta)), axis=1)], axis=1)\n",
    "    return S\n",
    "\n",
    "def payoffMax(S, strike):\n",
    "    return np.maximum(np.max(S, axis=1) - strike * S[:, -1], 0)\n"
   ]
  },
  {
   "cell_type": "code",
   "execution_count": 3,
   "metadata": {},
   "outputs": [],
   "source": [
    "spot = 100\n",
    "K = 1.2\n",
    "r = 0.02\n",
    "sigma = 0.25\n",
    "T = 2\n",
    "nTimeSteps = 24\n",
    "nSamples = 50000"
   ]
  },
  {
   "cell_type": "markdown",
   "metadata": {},
   "source": [
    "## Crude Monte Carlo"
   ]
  },
  {
   "cell_type": "code",
   "execution_count": 7,
   "metadata": {},
   "outputs": [
    {
     "name": "stdout",
     "output_type": "stream",
     "text": [
      "Crude Monte Carlo price 11.485250881046015 ± 0.13127506623674345\n"
     ]
    }
   ],
   "source": [
    "def crudeMonteCarlo(N, spot, sigma, r, T, nTimeSteps, K):\n",
    "    G = np.random.normal(0, 1, (N, nTimeSteps))\n",
    "    S = bsAsset(spot, sigma, r, T, nTimeSteps, G)\n",
    "    cashFlows = payoffMax(S, K) * np.exp(-r * T)\n",
    "    price = np.mean(cashFlows)\n",
    "    stdDev = np.sqrt(np.mean(cashFlows * cashFlows) - price * price)\n",
    "    ciHalfWidth = 1.96 * stdDev / np.sqrt(N)\n",
    "    return (price, ciHalfWidth)\n",
    "\n",
    "(price, ciHalfWidth) = crudeMonteCarlo(nSamples, spot, sigma, r, T, nTimeSteps, K)\n",
    "print(f'Crude Monte Carlo price {price} ± {ciHalfWidth}') "
   ]
  },
  {
   "cell_type": "markdown",
   "metadata": {},
   "source": [
    "## Antithetic variables"
   ]
  },
  {
   "cell_type": "code",
   "execution_count": 9,
   "metadata": {},
   "outputs": [
    {
     "name": "stdout",
     "output_type": "stream",
     "text": [
      "Antithetic Monte Carlo price 11.482645218134515 ± 0.09282877025353095\n"
     ]
    }
   ],
   "source": [
    "def antitheticMonteCarlo(N, spot, sigma, r, T, J, K):\n",
    "    G = np.random.normal(0, 1, (N, J))\n",
    "    S_plus = bsAsset(spot, sigma, r, T, J, G)\n",
    "    S_minus = bsAsset(spot, sigma, r, T, J, -G)\n",
    "    cashFlows_plus = payoffMax(S_plus, K) * np.exp(-r * T)\n",
    "    cashFlows_minus = payoffMax(S_minus, K) * np.exp(-r * T)\n",
    "    cashFlows = (cashFlows_minus + cashFlows_plus) / 2\n",
    "    price = np.mean(cashFlows)\n",
    "    stdDev = np.sqrt(np.mean(cashFlows * cashFlows) - price * price)\n",
    "    ciHalfWidth = 1.96 * stdDev / np.sqrt(N)\n",
    "    return (price, ciHalfWidth)\n",
    "\n",
    "(price, ciHalfWidth) = antitheticMonteCarlo(int(nSamples / 2), spot, sigma, r, T, nTimeSteps, K)\n",
    "print(f'Antithetic Monte Carlo price {price} ± {ciHalfWidth}')"
   ]
  },
  {
   "cell_type": "markdown",
   "metadata": {},
   "source": [
    "## Control Variates\n",
    "\n",
    "We use $S_T - S_O e^{r T}$ as a control variate."
   ]
  },
  {
   "cell_type": "code",
   "execution_count": 6,
   "metadata": {},
   "outputs": [
    {
     "name": "stdout",
     "output_type": "stream",
     "text": [
      "Control Variate Monte Carlo price 11.347416536595743 ± 0.2584273292707311\n",
      "Adaptive Control Variate Monte Carlo price 11.484004959622677 ± 0.10131349323158424 with optimal parameter -0.26041027504729936\n"
     ]
    }
   ],
   "source": [
    "from scipy.stats import norm\n",
    "\n",
    "N = norm.cdf\n",
    "\n",
    "def bsCall(S, K, T, r, sigma):\n",
    "    d1 = (np.log(S/K) + (r + sigma**2/2)*T) / (sigma*np.sqrt(T))\n",
    "    d2 = d1 - sigma * np.sqrt(T)\n",
    "    return S * N(d1) - K * np.exp(-r*T)* N(d2)\n",
    "\n",
    "def bsPut(S, K, T, r, sigma):\n",
    "    d1 = (np.log(S/K) + (r + sigma**2/2)*T) / (sigma*np.sqrt(T))\n",
    "    d2 = d1 - sigma* np.sqrt(T)\n",
    "    return K*np.exp(-r*T)*N(-d2) - S*N(-d1)\n",
    "\n",
    "def controlMonteCarlo(nSamples, spot, sigma, r, T, nTimeSteps, K):\n",
    "    G = np.random.normal(0, 1, (nSamples, nTimeSteps))\n",
    "    S = bsAsset(spot, sigma, r, T, nTimeSteps, G)\n",
    "    controlVariate = np.maximum(S[:,-1] - K, 0) - bsCall(spot, K, T, r, sigma) * np.exp(r * T)\n",
    "    cashFlowsWithControl = (payoffMax(S, K) + controlVariate) * np.exp(-r * T)\n",
    "    price = np.mean(cashFlowsWithControl)\n",
    "    stdDev = np.sqrt(np.mean(cashFlowsWithControl * cashFlowsWithControl) - price * price)\n",
    "    ciHalfWidth = 1.96 * stdDev / np.sqrt(nSamples)\n",
    "    return (price, ciHalfWidth)\n",
    "\n",
    "def adaptiveControlMonteCarlo(nSamples, spot, sigma, r, T, nTimeSteps, K):\n",
    "    G = np.random.normal(0, 1, (nSamples, nTimeSteps))\n",
    "    S = bsAsset(spot, sigma, r, T, nTimeSteps, G)\n",
    "    controlVariate = S[:, -1] - spot * np.exp(r *T) \n",
    "    payoffs = payoffMax(S, K)\n",
    "    lambdaStar = np.mean(payoffs * controlVariate) / np.var(controlVariate)\n",
    "    cashFlowsWithControl = (payoffs - lambdaStar * controlVariate) * np.exp(-r * T)\n",
    "    price = np.mean(cashFlowsWithControl)\n",
    "    stdDev = np.sqrt(np.mean(cashFlowsWithControl * cashFlowsWithControl) - price * price)\n",
    "    ciHalfWidth = 1.96 * stdDev / np.sqrt(nSamples)\n",
    "    return (price, ciHalfWidth, lambdaStar)\n",
    "\n",
    "\n",
    "(price, ciHalfWidth) = controlMonteCarlo(nSamples, spot, sigma, r, T, nTimeSteps, K)\n",
    "print(f'Control Variate Monte Carlo price {price} ± {ciHalfWidth}')\n",
    "(price, ciHalfWidth, lambdaStar) = adaptiveControlMonteCarlo(nSamples, spot, sigma, r, T, nTimeSteps, K)\n",
    "print(f'Adaptive Control Variate Monte Carlo price {price} ± {ciHalfWidth} with optimal parameter {lambdaStar}')"
   ]
  },
  {
   "cell_type": "markdown",
   "metadata": {},
   "source": [
    "## Fonction d'importance pour le call"
   ]
  },
  {
   "cell_type": "code",
   "execution_count": 7,
   "metadata": {},
   "outputs": [],
   "source": [
    "def payoffCall(S, strike):\n",
    "    return np.maximum(S[:,-1] - strike, 0)\n",
    "\n",
    "spot = 100\n",
    "r = 0.03\n",
    "sigma = 0.2\n",
    "T = 2\n",
    "K = 120\n",
    "nTimeSteps = 1\n"
   ]
  },
  {
   "cell_type": "code",
   "execution_count": 8,
   "metadata": {},
   "outputs": [],
   "source": [
    "def computeThetaN(spot, r, sigma, T, K, nSamples, gamma, beta):\n",
    "    alpha = 1\n",
    "    theta = np.empty(nSamples)\n",
    "    theta[0] = 0\n",
    "    for i in range(1, nSamples):\n",
    "        G = np.random.normal()\n",
    "        ST = bsAsset(spot, sigma, r, T, 1, G, theta[i-1])\n",
    "        proposal = theta[i - 1] - gamma / (i + 500) ** beta * payoffCall(ST, K) ** 2 * (theta[i-1] - G) * np.exp(theta[i-1] ** 2 / 2 - theta[i-1] * G)\n",
    "        if proposal**2 < np.log(alpha + 1):\n",
    "            theta[i] = proposal.item()\n",
    "        else:\n",
    "            theta[i] = 0\n",
    "            alpha += 1\n",
    "    return theta"
   ]
  },
  {
   "cell_type": "code",
   "execution_count": 9,
   "metadata": {},
   "outputs": [
    {
     "data": {
      "text/plain": [
       "[<matplotlib.lines.Line2D at 0x12c842a20>]"
      ]
     },
     "execution_count": 9,
     "metadata": {},
     "output_type": "execute_result"
    },
    {
     "data": {
      "image/png": "[encoded data removed]",
      "text/plain": [
       "<Figure size 640x480 with 1 Axes>"
      ]
     },
     "metadata": {},
     "output_type": "display_data"
    }
   ],
   "source": [
    "theta = computeThetaN(spot, r, sigma, T, K, 50000, 0.001, 0.75)\n",
    "barTheta = np.cumsum(theta) / np.arange(1, np.size(theta) + 1)\n",
    "plt.plot(theta)\n",
    "plt.plot(barTheta, color='green')"
   ]
  },
  {
   "cell_type": "code",
   "execution_count": 12,
   "metadata": {},
   "outputs": [],
   "source": [
    "def mcis(spot, sigma, r, T, K, nSamples, theta):\n",
    "    G = np.random.normal(0, 1, (nSamples, 1))\n",
    "    ST = bsAsset(spot, sigma, r, T, 1, G, theta)\n",
    "    payoffs = np.exp(-r * T) * payoffCall(ST, K) * np.exp(-theta * np.squeeze(G) - theta ** 2 / 2)\n",
    "    price = np.mean(payoffs)\n",
    "    stdDev = np.sqrt(np.mean(payoffs * payoffs) - price ** 2)\n",
    "    ciHalfWidth = 1.96 * stdDev / np.sqrt(nSamples)\n",
    "    return (price, ciHalfWidth)"
   ]
  },
  {
   "cell_type": "code",
   "execution_count": 15,
   "metadata": {},
   "outputs": [
    {
     "name": "stdout",
     "output_type": "stream",
     "text": [
      "Crude Monte Carlo: 6.546843060243203 ± 0.04659539034704773\n",
      "Crude Monte Carlo: 6.584580235236591 ± 0.046943764321244655\n",
      "Crude Monte Carlo: 6.569105345018524 ± 0.13478958303030686\n"
     ]
    }
   ],
   "source": [
    "price, ci = mcis(spot, sigma, r, T, K, 50000, theta[-1])\n",
    "print(f\"Crude Monte Carlo: {price} ± {ci}\")\n",
    "price, ci = mcis(spot, sigma, r, T, K, 50000, barTheta[-1])\n",
    "print(f\"Crude Monte Carlo: {price} ± {ci}\")\n",
    "price, ci= mcis(spot, sigma, r, T, K, 50000, 0)\n",
    "print(f\"Crude Monte Carlo: {price} ± {ci}\")"
   ]
  }
 ],
 "metadata": {
  "kernelspec": {
   "display_name": "Python 3",
   "language": "python",
   "name": "python3"
  },
  "language_info": {
   "codemirror_mode": {
    "name": "ipython",
    "version": 3
   },
   "file_extension": ".py",
   "mimetype": "text/x-python",
   "name": "python",
   "nbconvert_exporter": "python",
   "pygments_lexer": "ipython3",
   "version": "3.12.7"
  }
 },
 "nbformat": 4,
 "nbformat_minor": 2
}
