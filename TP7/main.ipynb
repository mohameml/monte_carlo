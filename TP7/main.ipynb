{
 "cells": [
  {
   "cell_type": "code",
   "execution_count": 38,
   "metadata": {},
   "outputs": [],
   "source": [
    "import numpy as np\n",
    "import matplotlib.pyplot as plt\n",
    "import math \n",
    "import time "
   ]
  },
  {
   "cell_type": "markdown",
   "metadata": {},
   "source": [
    "## TP7 :"
   ]
  },
  {
   "cell_type": "code",
   "execution_count": null,
   "metadata": {},
   "outputs": [],
   "source": [
    "def simulation_w1_w2(T , N , rho):\n",
    "    incr_1 = np.sqrt(T/N)*np.random.randn(N)\n",
    "    W_1 = np.concatenate(([0.] ,np.cumsum(incr_1)))\n",
    "    \n",
    "    incr_2 = np.sqrt(T/N)*np.random.randn(N)\n",
    "    W_3 = np.concatenate(([0.] ,np.cumsum(incr_2)))\n",
    "    \n",
    "    W_2 = rho*W_1 + np.sqrt(1- rho**2)*W_3 \n",
    "    \n",
    "    return (W_1 , W_2)\n",
    "\n",
    "\n",
    "def schema_s_v(s_0 , v_0 ,  k_v , theta , T , N  , sigma , r , W_1 , W_2):\n",
    "    \n",
    "    # W_1 , W_2 = simulation_w1_w2(T,N,rho)\n",
    "    \n",
    "    S = np.zeros(N+1)\n",
    "    V = np.zeros(N+1)\n",
    "    S[0]= s_0 \n",
    "    V[0] = v_0\n",
    "    \n",
    "    for k in range(1,N+1) :\n",
    "        V[k] = V[k-1] + k_v*(theta - V[k-1])*(T/N) + sigma*np.sqrt(max(V[k-1] , 0))*(W_2[k] - W_2[k-1])\n",
    "        S[k] = S[k-1] + r*S[k-1]*(T/N) + np.sqrt(max(V[k-1] , 0))*S[k-1]*(W_1[k] - W_1[k-1])\n",
    "        \n",
    "        \n",
    "    return (S,V)\n",
    "\n",
    "\n",
    "\n",
    "def calcul_W1_W2_suiv(W_1 , W_2 , m , l) :\n",
    "    \"\"\"\n",
    "    \"\"\"\n",
    "    taille2 = m**(l-1)\n",
    "    W_1_suiv = np.zeros(taille2 + 1)\n",
    "    W_2_suiv = np.zeros(taille2 + 1)\n",
    "\n",
    "    for i in range(taille2 + 1) :\n",
    "        W_1_suiv[i] = W_1[i*m]\n",
    "        W_2_suiv[i] = W_2[i*m]\n",
    "\n",
    "    return W_1_suiv , W_2_suiv\n",
    "    \n",
    "\n",
    "\n",
    "def approximate_A(t , S , N) :\n",
    "    res = (t/N)*(sum(S) - 0.5*(S[0] + S[-1]))\n",
    "    return res \n",
    "    \n",
    "    \n",
    "def payoff(T , S , K , N):\n",
    "    \n",
    "    return max((1/T)*approximate_A(T,S,N) - K , 0 )\n",
    "    \n",
    "    \n",
    "\n",
    "def price_mc(M , s_0 , v_0 ,  k_v , theta , T , N , rho , sigma , r , K ):\n",
    "    \n",
    "    price = 0\n",
    "    for _ in range(M) :\n",
    "        W_1 , W_2 = simulation_w1_w2(T,N,rho)\n",
    "        S,_ = schema_s_v(s_0 , v_0 ,  k_v , theta , T , N  , sigma , r , W_1 , W_2 )\n",
    "        p = payoff(T , S , K ,N)\n",
    "        price += p\n",
    "        \n",
    "    price = price*np.exp(-r*T) / M \n",
    "    \n",
    "    return price \n",
    "\n",
    "\n",
    "def MSE(M , s_0 , v_0 ,  k_v , theta , T , N , rho , sigma , r , K , price_exacte , M_2 ) :\n",
    "    \"\"\"\n",
    "    \n",
    "    \"\"\"\n",
    "    start = time.time()\n",
    "    MSE = 0\n",
    "    for _ in range(M_2) :\n",
    "        S_M = price_mc(M , s_0 , v_0 ,  k_v , theta , T , N , rho , sigma , r , K)\n",
    "        MSE += (S_M - price_exacte)**2 \n",
    "\n",
    "    MSE = MSE / M_2\n",
    "    end = time.time()\n",
    "\n",
    "    temps_calcul = end - start \n",
    "\n",
    "    return MSE , temps_calcul\n",
    "\n",
    "    \n",
    "def calcul_Ml(m , L , l , epsilon) :\n",
    "    a = m**l\n",
    "    b = epsilon**2\n",
    "    return int(L/(a*b))\n",
    "\n",
    "def price_mc_multi(s_0 , v_0 ,  k_v , theta , T ,  rho , sigma , r , K , m , epsilon ):\n",
    "    \"\"\" \n",
    "    \n",
    "    \"\"\"\n",
    "    L = int(np.log(1/epsilon) / np.log(m) )\n",
    "    M_0 = calcul_Ml(m , L , 0 , epsilon)\n",
    "    price = price_mc(M_0 ,s_0 , v_0 ,  k_v , theta , T , m**0 , rho , sigma , r , K )\n",
    "\n",
    "    for l in range(1,L):\n",
    "        Ml = calcul_Ml(m , L , l , epsilon)\n",
    "        price_l = 0 \n",
    "        for _ in range(1 , Ml):\n",
    "            # les browniens de schéma à m**l dates : \n",
    "            W_1 , W_2 = simulation_w1_w2(T,m**l,rho)\n",
    "            # schéma à m**l dates : \n",
    "            S,_ = schema_s_v(s_0 , v_0 ,  k_v , theta , T , m**l  , sigma , r , W_1 , W_2)\n",
    "            price_l += payoff(T , S , K ,m**l)\n",
    "            # schéma à m**(l-1) dates :\n",
    "            W_1 , W_2 = calcul_W1_W2_suiv(W_1 , W_2 , m , l)\n",
    "            S,_ = schema_s_v(s_0 , v_0 ,  k_v , theta , T , m**(l-1)  , sigma , r , W_1 , W_2)\n",
    "            price_l -= payoff(T , S , K ,m**(l- 1))\n",
    "        price_l = price_l / Ml \n",
    "        price += price_l\n",
    "    \n",
    "    return price\n",
    "\n",
    "\n",
    "def MSE_multi(s_0 , v_0 ,  k_v , theta , T ,  rho , sigma , r , K  ,m , epsilon , M_2 , prix_exacte):\n",
    "    \"\"\" \n",
    "    \n",
    "    \"\"\"\n",
    "    start = time.time()\n",
    "    MSE = 0\n",
    "    for _ in range(M_2) :\n",
    "        S_M = price_mc_multi(s_0 , v_0 ,  k_v , theta , T ,  rho , sigma , r , K   ,m , epsilon)\n",
    "        MSE += (S_M - prix_exacte)**2 \n",
    "\n",
    "    MSE = MSE / M_2\n",
    "    \n",
    "    end = time.time()\n",
    "    temps_calcul = end - start \n",
    "    return MSE , temps_calcul\n",
    "    \n",
    "\n",
    "\n",
    "def Courbe_MSE_Temps_multi(s_0 , v_0 ,  k_v , theta , T ,  rho , sigma , r , K  ,m , epsilon , M_2 , prix_exacte , nbpts) :\n",
    "\n",
    "    data = [MSE_multi(s_0 , v_0 ,  k_v , theta , T ,  rho , sigma , r , K  ,m , epsilon , M_2 , prix_exacte) for i in range(nbpts)]\n",
    "\n",
    "    mse = [data[i][0] for i in range(nbpts)]\n",
    "    temps = [data[i][1] for i in range(nbpts)]\n",
    "    print(temps)\n",
    "    print(mse)\n",
    "\n",
    "    plt.scatter(mse , temps , label = \"MC Multi-Level\")\n",
    "    plt.legend()\n",
    "    plt.show()\n"
   ]
  },
  {
   "cell_type": "code",
   "execution_count": 48,
   "metadata": {},
   "outputs": [],
   "source": [
    "r = 0.03\n",
    "s_0  = 100\n",
    "K = 110\n",
    "T = 2\n",
    "rho = -0.2\n",
    "v_0 = 0.04\n",
    "k_v = 2\n",
    "theta = 0.04\n",
    "sigma = 0.01\n",
    "N = 100\n",
    "M = 10000\n",
    "prix_exacte = 3.847906\n",
    "M_2 = 10\n",
    "m = 2\n",
    "epsilon = 10e-2\n"
   ]
  },
  {
   "cell_type": "code",
   "execution_count": 44,
   "metadata": {},
   "outputs": [
    {
     "name": "stdout",
     "output_type": "stream",
     "text": [
      "price avec une méthode de MC Classique : 3.8444980995301847\n"
     ]
    }
   ],
   "source": [
    "# MC Classique : \n",
    "price = price_mc(M ,s_0 , v_0 , k_v , theta , T , N , rho , sigma ,r, K )\n",
    "print(f\"price avec une méthode de MC Classique : {price}\")"
   ]
  },
  {
   "cell_type": "code",
   "execution_count": null,
   "metadata": {},
   "outputs": [
    {
     "name": "stdout",
     "output_type": "stream",
     "text": [
      "MSE MC Classique = 0.005035127498357737 avec un temps de calcul égale à 56.91708278656006\n"
     ]
    }
   ],
   "source": [
    "# MSE MC Classique \n",
    "mse = MSE(M ,s_0 , v_0 , k_v , theta , T , N , rho , sigma ,r, K, prix_exacte , M_2 )\n",
    "print(f\"MSE MC Classique = {mse[0]} avec un temps de calcul égale à {mse[1]} secondes\")"
   ]
  },
  {
   "cell_type": "code",
   "execution_count": 53,
   "metadata": {},
   "outputs": [
    {
     "name": "stdout",
     "output_type": "stream",
     "text": [
      "price avec une méthode de MC Multi-Level  = 3.897844426747593\n"
     ]
    }
   ],
   "source": [
    "# MC Multi-niveaux : \n",
    "price_multi = price_mc_multi(s_0 , v_0 ,  k_v , theta , T ,  rho , sigma , r , K , m , epsilon)\n",
    "print(f\"price avec une méthode de MC Multi-Level  = {price_multi}\")\n"
   ]
  },
  {
   "cell_type": "code",
   "execution_count": 77,
   "metadata": {},
   "outputs": [
    {
     "name": "stdout",
     "output_type": "stream",
     "text": [
      "MSE MC Multi-Level = 0.1540122143888402 avec un temps de calcul égale à 0.4815652370452881 secondes \n"
     ]
    }
   ],
   "source": [
    "# MSE en fonction de temps de calcul : \n",
    "mse_multi = MSE_multi(s_0 , v_0 ,  k_v , theta , T ,  rho , sigma , r , K  ,m , epsilon , M_2 , prix_exacte)\n",
    "print(f\"MSE MC Multi-Level = {mse_multi[0]} avec un temps de calcul égale à {mse_multi[1]} secondes \")"
   ]
  },
  {
   "cell_type": "code",
   "execution_count": 81,
   "metadata": {},
   "outputs": [
    {
     "name": "stdout",
     "output_type": "stream",
     "text": [
      "[0.3535645008087158, 0.25858306884765625, 0.3572268486022949, 0.31471729278564453, 0.34700441360473633, 0.27732324600219727, 0.4914693832397461, 0.5344803333282471, 0.3487358093261719, 0.3005862236022949]\n",
      "[0.4477170540280759, 0.32053018960969254, 0.2990554679037373, 0.3134278681373907, 0.17636801808511005, 0.10859016804441537, 0.19987672630322775, 0.24981118029427787, 0.4985419032848425, 0.3926470014461967]\n"
     ]
    },
    {
     "data": {
      "image/png": "[encoded data removed]",
      "text/plain": [
       "<Figure size 640x480 with 1 Axes>"
      ]
     },
     "metadata": {},
     "output_type": "display_data"
    }
   ],
   "source": [
    "# Courbe : \n",
    "nbpts = 10 \n",
    "Courbe_MSE_Temps_multi(s_0 , v_0 ,  k_v , theta , T ,  rho , sigma , r , K  ,m , epsilon , M_2 , prix_exacte , nbpts)"
   ]
  }
 ],
 "metadata": {
  "kernelspec": {
   "display_name": "Python 3",
   "language": "python",
   "name": "python3"
  },
  "language_info": {
   "codemirror_mode": {
    "name": "ipython",
    "version": 3
   },
   "file_extension": ".py",
   "mimetype": "text/x-python",
   "name": "python",
   "nbconvert_exporter": "python",
   "pygments_lexer": "ipython3",
   "version": "3.10.12"
  }
 },
 "nbformat": 4,
 "nbformat_minor": 4
}
