{
 "cells": [
  {
   "cell_type": "code",
   "execution_count": 4,
   "metadata": {},
   "outputs": [],
   "source": [
    "import numpy as np\n",
    "import matplotlib.pyplot as plt\n",
    "import math "
   ]
  },
  {
   "cell_type": "markdown",
   "metadata": {},
   "source": [
    "## TP7 :"
   ]
  },
  {
   "cell_type": "code",
   "execution_count": 33,
   "metadata": {},
   "outputs": [],
   "source": [
    "def simulation_w1_w2(T , N , rho):\n",
    "    incr_1 = np.sqrt(T/N)*np.random.randn(N)\n",
    "    W_1 = np.concatenate(([0.] ,np.cumsum(incr_1)))\n",
    "    \n",
    "    incr_2 = np.sqrt(T/N)*np.random.randn(N)\n",
    "    W_3 = np.concatenate(([0.] ,np.cumsum(incr_2)))\n",
    "    \n",
    "    W_2 = rho*W_1 + np.sqrt(1- rho**2)*W_3 \n",
    "    \n",
    "    return (W_1 , W_2)\n",
    "\n",
    "\n",
    "def schema_s_v(s_0 , v_0 ,  k_v , theta , T , N  , sigma , r , W_1 , W_2):\n",
    "    \n",
    "    # W_1 , W_2 = simulation_w1_w2(T,N,rho)\n",
    "    \n",
    "    S = np.zeros(N+1)\n",
    "    V = np.zeros(N+1)\n",
    "    S[0]= s_0 \n",
    "    V[0] = v_0\n",
    "    \n",
    "    for k in range(1,N+1) :\n",
    "        V[k] = V[k-1] + k_v*(theta - V[k-1])*(T/N) + sigma*np.sqrt(max(V[k-1] , 0))*(W_2[k] - W_2[k-1])\n",
    "        S[k] = S[k-1] + r*S[k-1]*(T/N) + np.sqrt(max(V[k-1] , 0))*S[k-1]*(W_1[k] - W_1[k-1])\n",
    "        \n",
    "        \n",
    "    return (S,V)\n",
    "\n",
    "\n",
    "\n",
    "def calcul_W1_W2_suiv(W_1 , W_2 , taille1 , taille2) :\n",
    "    \"\"\"\n",
    "    \"\"\"\n",
    "\n",
    "    \n",
    "\n",
    "\n",
    "def approximate_A(t , S , N) :\n",
    "    res = (t/N)*(sum(S) - 0.5*(S[0] + S[-1]))\n",
    "    return res \n",
    "    \n",
    "    \n",
    "def payoff(T , S , K , N):\n",
    "    \n",
    "    return max((1/T)*approximate_A(T,S,N) - K , 0 )\n",
    "    \n",
    "    \n",
    "\n",
    "def price_mc(M , s_0 , v_0 ,  k_v , theta , T , N , rho , sigma , r , K ):\n",
    "    \n",
    "    price = 0\n",
    "    var_price = 0\n",
    "    for _ in range(M) :\n",
    "        W_1 , W_2 = simulation_w1_w2(T,N,rho)\n",
    "        S,_ = schema_s_v(s_0 , v_0 ,  k_v , theta , T , N  , sigma , r , W_1 , W_2 )\n",
    "        p = payoff(T , S , K ,N)\n",
    "        price += p\n",
    "        var_price += p**2\n",
    "        \n",
    "    price = price*np.exp(-r*T) / M \n",
    "    var_price = (np.exp(-2*r*T)/M)*var_price - price**2\n",
    "    \n",
    "    return price , var_price \n",
    "\n",
    "\n",
    "def MSE(M , s_0 , v_0 ,  k_v , theta , T , N , rho , sigma , r , K , price_exacte , M_2 ) :\n",
    "    \"\"\"\n",
    "    \n",
    "    \"\"\"\n",
    "    MSE = 0\n",
    "    for _ in range(M_2) :\n",
    "        S_M = price_mc(M , s_0 , v_0 ,  k_v , theta , T , N , rho , sigma , r , K)[0]\n",
    "        MSE += (S_M - price_exacte)**2 \n",
    "\n",
    "    MSE = MSE / M_2\n",
    "    \n",
    "    return MSE\n",
    "\n",
    "    \n",
    "def calcul_Ml(m , L , l , epsilon) :\n",
    "    a = L/(m**l)\n",
    "    b = epsilon**2\n",
    "    return int(L/(a*b))\n",
    "\n",
    "def price_mc_multi(s_0 , v_0 ,  k_v , theta , T ,  rho , sigma , r , K , m , epsilon ):\n",
    "    \"\"\" \n",
    "    \n",
    "    \"\"\"\n",
    "    L = int(log(1/epsilon) / log(m) )\n",
    "    M_0 = calcul_Ml(m , L , 0 , epsilon)\n",
    "    price = price_mc(M_0 ,s_0 , v_0 ,  k_v , theta , T , m**0 , rho , sigma , r , K )\n",
    "\n",
    "    for l in range(1,L):\n",
    "        Ml = calcul_Ml(m , L , l , epsilon)\n",
    "        price_l = 0 \n",
    "        for _ in range(1 , Ml):\n",
    "            # les browniens de schéma à m**l dates : \n",
    "            W_1 , W_2 = simulation_w1_w2(T,m**l,rho)\n",
    "            # schéma à m**l dates : \n",
    "            S,_ = schema_s_v(s_0 , v_0 ,  k_v , theta , T , m**l  , sigma , r , W_1 , W_2)\n",
    "            price_l += payoff(T , S , K ,m**l)\n",
    "            # schéma à m**(l-1) dates :\n",
    "            S,_ = schema_s_v(s_0 , v_0 ,  k_v , theta , T , m**(l-1)  , sigma , r , W_1 , W_2)\n",
    "            price_l -= payoff(T , S , K ,m**l)\n",
    "        price_l /= Ml \n",
    "        price += price_l\n",
    "    \n",
    "    return price\n",
    "\n",
    "\n",
    "def MSE_multi(s_0 , v_0 ,  k_v , theta , T ,  rho , sigma , r , K , L  ,m , epsilon):\n",
    "    \"\"\" \n",
    "    \n",
    "    \"\"\"\n",
    "    \n"
   ]
  },
  {
   "cell_type": "code",
   "execution_count": 21,
   "metadata": {},
   "outputs": [
    {
     "name": "stdout",
     "output_type": "stream",
     "text": [
      "(3.822726569626148, 69.41374030605103)\n"
     ]
    }
   ],
   "source": [
    "r = 0.03\n",
    "s_0  = 100\n",
    "K = 110\n",
    "T = 2\n",
    "rho = -0.2\n",
    "v_0 = 0.04\n",
    "k_v = 2\n",
    "theta = 0.04\n",
    "sigma = 0.01\n",
    "N = 100\n",
    "M = 10000\n",
    "W_1 , W_2 = simulation_w1_w2(T,N,rho)\n",
    "price = price_mc(M ,s_0 , v_0 , k_v , theta , T , N , rho , sigma ,r, K )\n",
    "\n",
    "print(price)"
   ]
  },
  {
   "cell_type": "code",
   "execution_count": 36,
   "metadata": {},
   "outputs": [
    {
     "name": "stdout",
     "output_type": "stream",
     "text": [
      "0.015974694019937535\n"
     ]
    }
   ],
   "source": [
    "# MSE : 0.009 ; 0.015 \n",
    "prix_exacte = 3.847906\n",
    "M_2 = 10\n",
    "mse = MSE(M ,s_0 , v_0 , k_v , theta , T , N , rho , sigma ,r, K, prix_exacte , M_2 )\n",
    "print(mse)\n"
   ]
  },
  {
   "cell_type": "code",
   "execution_count": 37,
   "metadata": {},
   "outputs": [
    {
     "name": "stdout",
     "output_type": "stream",
     "text": [
      "price_multi = [18.65294012 45.97107568]\n"
     ]
    }
   ],
   "source": [
    "# MSE : \n",
    "# mse = MSE(M ,s_0 , v_0 , k_v , theta , T , N , rho , sigma ,r, K )\n",
    "# print(mse)\n",
    "\n",
    "\n",
    "\n",
    "# MC Multi-niveaux : \n",
    "m = 4\n",
    "epsilon = 10e-3\n",
    "\n",
    "price_multi = price_mc_multi(s_0 , v_0 , k_v , theta , T , rho , sigma , r  , K , ,m , epsilon)\n",
    "print(f\"price_multi = {price_multi}\")\n",
    "\n",
    "\n",
    "# print(calcul_Ml(m , L , L , epsilon))"
   ]
  },
  {
   "cell_type": "code",
   "execution_count": null,
   "metadata": {},
   "outputs": [],
   "source": [
    "# MSE en fonction de temps de calcul : \n"
   ]
  }
 ],
 "metadata": {
  "kernelspec": {
   "display_name": "Python 3 (ipykernel)",
   "language": "python",
   "name": "python3"
  },
  "language_info": {
   "codemirror_mode": {
    "name": "ipython",
    "version": 3
   },
   "file_extension": ".py",
   "mimetype": "text/x-python",
   "name": "python",
   "nbconvert_exporter": "python",
   "pygments_lexer": "ipython3",
   "version": "3.10.12"
  }
 },
 "nbformat": 4,
 "nbformat_minor": 4
}
